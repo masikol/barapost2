{
 "cells": [
  {
   "cell_type": "code",
   "execution_count": 1,
   "metadata": {},
   "outputs": [],
   "source": [
    "from src.taxonomy.TaxonomySearcher import TaxonomySearcher"
   ]
  },
  {
   "cell_type": "code",
   "execution_count": 2,
   "metadata": {},
   "outputs": [],
   "source": [
    "ts = TaxonomySearcher()"
   ]
  },
  {
   "cell_type": "code",
   "execution_count": 3,
   "metadata": {},
   "outputs": [
    {
     "name": "stdout",
     "output_type": "stream",
     "text": [
      "GET\n",
      "/entrez/eutils/elink.fcgi\n",
      "{'dbfrom': 'nuccore', 'db': 'taxonomy', 'id': 'CP045701.2', 'retmode': 'json'}\n",
      "{}\n",
      "{\"header\":{\"type\":\"elink\",\"version\":\"0.3\"},\"linksets\":[{\"dbfrom\":\"nuccore\",\"ids\":[\"1910759551\"],\"linksetdbs\":[{\"dbto\":\"taxonomy\",\"linkname\":\"nuccore_taxonomy\",\"links\":[\"930166\"]}]}]}\n",
      "\n",
      "GET\n",
      "/entrez/eutils/efetch.fcgi\n",
      "{'db': 'taxonomy', 'id': '930166', 'retmode': 'xml'}\n",
      "{}\n",
      "<?xml version=\"1.0\" ?>\n",
      "<!DOCTYPE TaxaSet PUBLIC \"-//NLM//DTD Taxon, 14th January 2002//EN\" \"https://www.ncbi.nlm.nih.gov/entrez/query/DTD/taxon.dtd\">\n",
      "<TaxaSet><Taxon>\n",
      "    <TaxId>930166</TaxId>\n",
      "    <ScientificName>Pseudomonas brassicacearum</ScientificName>\n",
      "    <OtherNames>\n",
      "        <Includes>Pseudomonas sp. DF41</Includes>\n",
      "        <Name>\n",
      "            <ClassCDE>authority</ClassCDE>\n",
      "            <DispName>Pseudomonas brassicacearum Achouak et al. 2000 emend. Ivanova et al. 2009</DispName>\n",
      "        </Name>\n",
      "        <Name>\n",
      "            <ClassCDE>type material</ClassCDE>\n",
      "            <DispName>CCUG 51508</DispName>\n",
      "        </Name>\n",
      "        <Name>\n",
      "            <ClassCDE>type material</ClassCDE>\n",
      "            <DispName>CCUG:51508</DispName>\n",
      "        </Name>\n",
      "        <Name>\n",
      "            <ClassCDE>type material</ClassCDE>\n",
      "            <DispName>CFBP 11706</DispName>\n",
      "        </Name>\n",
      "        <Name>\n",
      "            <ClassCDE>type material</ClassCDE>\n",
      "            <DispName>CFBP:11706</DispName>\n",
      "        </Name>\n",
      "        <Name>\n",
      "            <ClassCDE>type material</ClassCDE>\n",
      "            <DispName>CIP 107059</DispName>\n",
      "        </Name>\n",
      "        <Name>\n",
      "            <ClassCDE>type material</ClassCDE>\n",
      "            <DispName>CIP:107059</DispName>\n",
      "        </Name>\n",
      "        <Name>\n",
      "            <ClassCDE>type material</ClassCDE>\n",
      "            <DispName>DSM 13227</DispName>\n",
      "        </Name>\n",
      "        <Name>\n",
      "            <ClassCDE>type material</ClassCDE>\n",
      "            <DispName>DSM:13227</DispName>\n",
      "        </Name>\n",
      "        <Name>\n",
      "            <ClassCDE>type material</ClassCDE>\n",
      "            <DispName>JCM 11938</DispName>\n",
      "        </Name>\n",
      "        <Name>\n",
      "            <ClassCDE>type material</ClassCDE>\n",
      "            <DispName>JCM:11938</DispName>\n",
      "        </Name>\n",
      "        <Name>\n",
      "            <ClassCDE>type material</ClassCDE>\n",
      "            <DispName>personal::DBK11</DispName>\n",
      "        </Name>\n",
      "        <Name>\n",
      "            <ClassCDE>type material</ClassCDE>\n",
      "            <DispName>strain DBK11</DispName>\n",
      "        </Name>\n",
      "    </OtherNames>\n",
      "    <ParentTaxId>286</ParentTaxId>\n",
      "    <Rank>species</Rank>\n",
      "    <Division>Bacteria</Division>\n",
      "    <GeneticCode>\n",
      "        <GCId>11</GCId>\n",
      "        <GCName>Bacterial, Archaeal and Plant Plastid</GCName>\n",
      "    </GeneticCode>\n",
      "    <MitoGeneticCode>\n",
      "        <MGCId>0</MGCId>\n",
      "        <MGCName>Unspecified</MGCName>\n",
      "    </MitoGeneticCode>\n",
      "    <Lineage>cellular organisms; Bacteria; Pseudomonadati; Pseudomonadota; Gammaproteobacteria; Pseudomonadales; Pseudomonadaceae; Pseudomonas</Lineage>\n",
      "    <LineageEx>\n",
      "        <Taxon>\n",
      "            <TaxId>131567</TaxId>\n",
      "            <ScientificName>cellular organisms</ScientificName>\n",
      "            <Rank>no rank</Rank>\n",
      "        </Taxon>\n",
      "        <Taxon>\n",
      "            <TaxId>2</TaxId>\n",
      "            <ScientificName>Bacteria</ScientificName>\n",
      "            <Rank>superkingdom</Rank>\n",
      "        </Taxon>\n",
      "        <Taxon>\n",
      "            <TaxId>3379134</TaxId>\n",
      "            <ScientificName>Pseudomonadati</ScientificName>\n",
      "            <Rank>kingdom</Rank>\n",
      "        </Taxon>\n",
      "        <Taxon>\n",
      "            <TaxId>1224</TaxId>\n",
      "            <ScientificName>Pseudomonadota</ScientificName>\n",
      "            <Rank>phylum</Rank>\n",
      "        </Taxon>\n",
      "        <Taxon>\n",
      "            <TaxId>1236</TaxId>\n",
      "            <ScientificName>Gammaproteobacteria</ScientificName>\n",
      "            <Rank>class</Rank>\n",
      "        </Taxon>\n",
      "        <Taxon>\n",
      "            <TaxId>72274</TaxId>\n",
      "            <ScientificName>Pseudomonadales</ScientificName>\n",
      "            <Rank>order</Rank>\n",
      "        </Taxon>\n",
      "        <Taxon>\n",
      "            <TaxId>135621</TaxId>\n",
      "            <ScientificName>Pseudomonadaceae</ScientificName>\n",
      "            <Rank>family</Rank>\n",
      "        </Taxon>\n",
      "        <Taxon>\n",
      "            <TaxId>286</TaxId>\n",
      "            <ScientificName>Pseudomonas</ScientificName>\n",
      "            <Rank>genus</Rank>\n",
      "        </Taxon>\n",
      "    </LineageEx>\n",
      "    <CreateDate>2010/11/24 12:44:04</CreateDate>\n",
      "    <UpdateDate>2020/05/04 11:34:52</UpdateDate>\n",
      "    <PubDate>2007/01/01 18:00:04</PubDate>\n",
      "</Taxon>\n",
      "\n",
      "</TaxaSet>\n"
     ]
    }
   ],
   "source": [
    "tax = ts.seach_taxonomy('CP045701.2')"
   ]
  },
  {
   "cell_type": "code",
   "execution_count": 4,
   "metadata": {
    "scrolled": true
   },
   "outputs": [
    {
     "data": {
      "text/plain": [
       "SeqTaxonomy(\n",
       "seq_id : `CP045701.2`, rank : `Species`, tax_name : `Pseudomonas brassicacearum`, Domain : `Bacteria`, Phylum : `Pseudomonadota`, Class : `Gammaproteobacteria`, Order : `Pseudomonadales`, Family : `Pseudomonadaceae`, Genus : `Pseudomonas`, Species : `Pseudomonas brassicacearum`\n",
       ")"
      ]
     },
     "execution_count": 4,
     "metadata": {},
     "output_type": "execute_result"
    }
   ],
   "source": [
    "tax"
   ]
  },
  {
   "cell_type": "code",
   "execution_count": null,
   "metadata": {},
   "outputs": [],
   "source": []
  },
  {
   "cell_type": "code",
   "execution_count": 1,
   "metadata": {},
   "outputs": [],
   "source": [
    "from src.taxonomy.TaxonomyManager import TaxonomyManager"
   ]
  },
  {
   "cell_type": "code",
   "execution_count": 2,
   "metadata": {},
   "outputs": [],
   "source": [
    "tm = TaxonomyManager(\n",
    "    '/home/deynonih/cager/repos/barapost2/data/text_taxonomy.tsv'\n",
    ")"
   ]
  },
  {
   "cell_type": "code",
   "execution_count": 3,
   "metadata": {},
   "outputs": [],
   "source": [
    "tm.add_taxonomy('CP045701.2')"
   ]
  },
  {
   "cell_type": "code",
   "execution_count": 4,
   "metadata": {},
   "outputs": [],
   "source": [
    "tm.add_taxonomy('NZ_CP136591.1')"
   ]
  }
 ],
 "metadata": {
  "kernelspec": {
   "display_name": "Python 3 (ipykernel)",
   "language": "python",
   "name": "python3"
  },
  "language_info": {
   "codemirror_mode": {
    "name": "ipython",
    "version": 3
   },
   "file_extension": ".py",
   "mimetype": "text/x-python",
   "name": "python",
   "nbconvert_exporter": "python",
   "pygments_lexer": "ipython3",
   "version": "3.12.3"
  }
 },
 "nbformat": 4,
 "nbformat_minor": 4
}
