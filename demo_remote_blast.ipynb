{
 "cells": [
  {
   "cell_type": "code",
   "execution_count": 1,
   "id": "ef5004dd-1b97-4f9f-a307-815505abcb54",
   "metadata": {},
   "outputs": [],
   "source": [
    "from src.remote_blast import RemoteBlast\n",
    "from src.reader_system.ReaderWrapper import ReaderWrapper"
   ]
  },
  {
   "cell_type": "code",
   "execution_count": null,
   "id": "78cd1b6c-6a48-44b4-ad6d-af28625063e5",
   "metadata": {},
   "outputs": [],
   "source": []
  },
  {
   "cell_type": "code",
   "execution_count": 2,
   "id": "4194ade3-218c-4f68-9004-8b84e4e263c8",
   "metadata": {},
   "outputs": [],
   "source": [
    "def read_first_fasta_seq(input_fpath : str):\n",
    "    reader_wrapper = ReaderWrapper(\n",
    "        file_paths=[input_fpath],\n",
    "        packet_size=1,\n",
    "        probing_batch_size=1,\n",
    "        mode='seq_count'\n",
    "    )\n",
    "    with reader_wrapper as input_handle:\n",
    "        for container_packet in input_handle:\n",
    "            result_container = next(iter(container_packet))\n",
    "            break\n",
    "        # end of\n",
    "    # end with\n",
    "    return result_container\n",
    "# end def\n",
    "\n",
    "\n",
    "def read_query_seq_1():\n",
    "    input_file_path = '/home/masikol/cager/repos/barapost2/tests/test_remote_blast/data/query_corona_seq.fasta'\n",
    "    return read_first_fasta_seq(input_file_path)\n",
    "# end def\n",
    "\n",
    "def read_query_seq_2():\n",
    "    input_file_path = '/home/masikol/cager/repos/barapost2/tests/test_remote_blast/data/52a41318-f8b9-4d61-a21f-4a907f107973.fasta'\n",
    "    return read_first_fasta_seq(input_file_path)\n",
    "# end def\n",
    "\n",
    "def read_query_seq_3():\n",
    "    input_file_path = '/home/masikol/cager/repos/barapost2/tests/test_remote_blast/data/711bf04d-20f5-4418-9712-16168ef98999.fasta'\n",
    "    return read_first_fasta_seq(input_file_path)\n",
    "# end def"
   ]
  },
  {
   "cell_type": "code",
   "execution_count": null,
   "id": "fccae3dd-992d-4c50-a58a-b13505b6a369",
   "metadata": {},
   "outputs": [],
   "source": []
  },
  {
   "cell_type": "code",
   "execution_count": 3,
   "id": "16c93afb-d29a-4b22-951f-829de4af4e61",
   "metadata": {},
   "outputs": [],
   "source": [
    "remote_blast = RemoteBlast(\n",
    "    'megaBlast',\n",
    "    ['561879', '2697049'],\n",
    "    '/home/masikol/cager/repos/barapost2/tests/test_remote_blast/data/test_outdir'\n",
    ")"
   ]
  },
  {
   "cell_type": "code",
   "execution_count": 4,
   "id": "f5194b7b-ff34-4ce6-91d9-7d531421f3d4",
   "metadata": {},
   "outputs": [],
   "source": [
    "packet = [\n",
    "    read_query_seq_1(),\n",
    "    read_query_seq_2(),\n",
    "    read_query_seq_3(),\n",
    "]\n",
    "request_id, wait_time = remote_blast.submit_remote_blast(packet)"
   ]
  },
  {
   "cell_type": "code",
   "execution_count": 5,
   "id": "04cd4fd1-e099-451f-b482-9f54f992b7d2",
   "metadata": {},
   "outputs": [
    {
     "data": {
      "text/plain": [
       "('S078JZV1013', 30)"
      ]
     },
     "execution_count": 5,
     "metadata": {},
     "output_type": "execute_result"
    }
   ],
   "source": [
    "request_id, wait_time"
   ]
  },
  {
   "cell_type": "code",
   "execution_count": null,
   "id": "d7fd2d28-f317-4423-9e73-ce8f733cacd1",
   "metadata": {},
   "outputs": [],
   "source": []
  }
 ],
 "metadata": {
  "kernelspec": {
   "display_name": "Python 3 (ipykernel)",
   "language": "python",
   "name": "python3"
  },
  "language_info": {
   "codemirror_mode": {
    "name": "ipython",
    "version": 3
   },
   "file_extension": ".py",
   "mimetype": "text/x-python",
   "name": "python",
   "nbconvert_exporter": "python",
   "pygments_lexer": "ipython3",
   "version": "3.12.3"
  }
 },
 "nbformat": 4,
 "nbformat_minor": 5
}
