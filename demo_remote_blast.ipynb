{
 "cells": [
  {
   "cell_type": "code",
   "execution_count": 1,
   "id": "ef5004dd-1b97-4f9f-a307-815505abcb54",
   "metadata": {},
   "outputs": [],
   "source": [
    "from src.remote_blast.remote_blast import RemoteBlast\n",
    "from src.reader_system.ReaderWrapper import ReaderWrapper"
   ]
  },
  {
   "cell_type": "code",
   "execution_count": null,
   "id": "78cd1b6c-6a48-44b4-ad6d-af28625063e5",
   "metadata": {},
   "outputs": [],
   "source": []
  },
  {
   "cell_type": "code",
   "execution_count": 2,
   "id": "4194ade3-218c-4f68-9004-8b84e4e263c8",
   "metadata": {},
   "outputs": [],
   "source": [
    "def read_first_fasta_seq(input_fpath : str):\n",
    "    reader_wrapper = ReaderWrapper(\n",
    "        file_paths=[input_fpath],\n",
    "        packet_size=1,\n",
    "        probing_batch_size=1,\n",
    "        mode='seq_count'\n",
    "    )\n",
    "    with reader_wrapper as input_handle:\n",
    "        for container_packet in input_handle:\n",
    "            result_container = next(iter(container_packet))\n",
    "            break\n",
    "        # end of\n",
    "    # end with\n",
    "    return result_container\n",
    "# end def\n",
    "\n",
    "\n",
    "def read_query_seq_1():\n",
    "    input_file_path = '/home/masikol/cager/repos/barapost2/tests/test_remote_blast/data/query_corona_seq.fasta'\n",
    "    return read_first_fasta_seq(input_file_path)\n",
    "# end def\n",
    "\n",
    "def read_query_seq_2():\n",
    "    input_file_path = '/home/masikol/cager/repos/barapost2/tests/test_remote_blast/data/52a41318-f8b9-4d61-a21f-4a907f107973.fasta'\n",
    "    return read_first_fasta_seq(input_file_path)\n",
    "# end def\n",
    "\n",
    "def read_query_seq_3():\n",
    "    input_file_path = '/home/masikol/cager/repos/barapost2/tests/test_remote_blast/data/711bf04d-20f5-4418-9712-16168ef98999.fasta'\n",
    "    return read_first_fasta_seq(input_file_path)\n",
    "# end def"
   ]
  },
  {
   "cell_type": "code",
   "execution_count": 3,
   "id": "16c93afb-d29a-4b22-951f-829de4af4e61",
   "metadata": {},
   "outputs": [],
   "source": [
    "remote_blast = RemoteBlast(\n",
    "    'megaBlast',\n",
    "    ['561879', '2697049'],\n",
    "    '/home/masikol/cager/repos/barapost2/tests/test_remote_blast/data/test_outdir'\n",
    ")"
   ]
  },
  {
   "cell_type": "code",
   "execution_count": 4,
   "id": "0b69e94d-5ae5-44a2-a0e7-aff9dec54eca",
   "metadata": {},
   "outputs": [],
   "source": [
    "packet = [\n",
    "    # read_query_seq_1(),\n",
    "    # read_query_seq_2(),\n",
    "    read_query_seq_3(),\n",
    "]"
   ]
  },
  {
   "cell_type": "code",
   "execution_count": 6,
   "id": "f5194b7b-ff34-4ce6-91d9-7d531421f3d4",
   "metadata": {},
   "outputs": [],
   "source": [
    "request_id, wait_time = remote_blast.submit_remote_blast(packet)"
   ]
  },
  {
   "cell_type": "code",
   "execution_count": 7,
   "id": "9222d753-d6e6-4dbd-b3b3-d439c7e33c2f",
   "metadata": {},
   "outputs": [],
   "source": [
    "# request_id, wait_time = 'T7MJSHK6013', 1"
   ]
  },
  {
   "cell_type": "code",
   "execution_count": 11,
   "id": "fbf903bb-c499-42a0-a782-5b13b4afecf7",
   "metadata": {},
   "outputs": [],
   "source": [
    "request_id, wait_time = 'T0000000000', 1"
   ]
  },
  {
   "cell_type": "code",
   "execution_count": 12,
   "id": "04cd4fd1-e099-451f-b482-9f54f992b7d2",
   "metadata": {},
   "outputs": [
    {
     "data": {
      "text/plain": [
       "('T0000000000', 1)"
      ]
     },
     "execution_count": 12,
     "metadata": {},
     "output_type": "execute_result"
    }
   ],
   "source": [
    "request_id, wait_time"
   ]
  },
  {
   "cell_type": "code",
   "execution_count": null,
   "id": "13dfd440-a592-472d-b1ac-95d63dd2aa8f",
   "metadata": {},
   "outputs": [],
   "source": []
  },
  {
   "cell_type": "code",
   "execution_count": 13,
   "id": "9d26c2f9-74e1-4ecf-a2bb-1101636d5f9a",
   "metadata": {
    "scrolled": true
   },
   "outputs": [
    {
     "name": "stderr",
     "output_type": "stream",
     "text": [
      "INFO:root:BLAST server estimates that alignment will be ready in 1 seconds\n",
      "INFO:root:Waiting for 1+3 (+3 extra) seconds...\n",
      "INFO:root:4 seconds have passed. Checking if the alignment is ready...\n",
      "INFO:root:Job T0000000000 has expired. I will resubmit it\n"
     ]
    },
    {
     "ename": "BlastError",
     "evalue": "2",
     "output_type": "error",
     "traceback": [
      "\u001b[0;31m---------------------------------------------------------------------------\u001b[0m",
      "\u001b[0;31mBlastError\u001b[0m                                Traceback (most recent call last)",
      "Cell \u001b[0;32mIn[13], line 1\u001b[0m\n\u001b[0;32m----> 1\u001b[0m result \u001b[38;5;241m=\u001b[39m \u001b[43mremote_blast\u001b[49m\u001b[38;5;241;43m.\u001b[39;49m\u001b[43mretrieve_results\u001b[49m\u001b[43m(\u001b[49m\u001b[43mrequest_id\u001b[49m\u001b[43m,\u001b[49m\u001b[43m \u001b[49m\u001b[43mwait_time\u001b[49m\u001b[43m)\u001b[49m\n",
      "File \u001b[0;32m~/cager/repos/barapost2/src/remote_blast/remote_blast.py:139\u001b[0m, in \u001b[0;36mRemoteBlast.retrieve_results\u001b[0;34m(self, request_id, wait_time)\u001b[0m\n\u001b[1;32m    136\u001b[0m \u001b[38;5;28;01mdef\u001b[39;00m\u001b[38;5;250m \u001b[39m\u001b[38;5;21mretrieve_results\u001b[39m(\u001b[38;5;28mself\u001b[39m,\n\u001b[1;32m    137\u001b[0m                      request_id : \u001b[38;5;28mstr\u001b[39m,\n\u001b[1;32m    138\u001b[0m                      wait_time : \u001b[38;5;28mint\u001b[39m) \u001b[38;5;241m-\u001b[39m\u001b[38;5;241m>\u001b[39m Sequence[AlignResult]:\n\u001b[0;32m--> 139\u001b[0m     \u001b[38;5;28;43mself\u001b[39;49m\u001b[38;5;241;43m.\u001b[39;49m\u001b[43m_wait_till_job_is_ready\u001b[49m\u001b[43m(\u001b[49m\u001b[43mrequest_id\u001b[49m\u001b[43m,\u001b[49m\u001b[43m \u001b[49m\u001b[43mwait_time\u001b[49m\u001b[43m)\u001b[49m\n\u001b[1;32m    140\u001b[0m     blast_result \u001b[38;5;241m=\u001b[39m \u001b[38;5;28mself\u001b[39m\u001b[38;5;241m.\u001b[39m_request_results(request_id)\n\u001b[1;32m    141\u001b[0m     \u001b[38;5;28;01mreturn\u001b[39;00m blast_result\n",
      "File \u001b[0;32m~/cager/repos/barapost2/src/remote_blast/remote_blast.py:214\u001b[0m, in \u001b[0;36mRemoteBlast._wait_till_job_is_ready\u001b[0;34m(self, request_id, wait_time)\u001b[0m\n\u001b[1;32m    208\u001b[0m \u001b[38;5;28;01melif\u001b[39;00m job_status \u001b[38;5;241m==\u001b[39m \u001b[38;5;124m'\u001b[39m\u001b[38;5;124mUNKNOWN\u001b[39m\u001b[38;5;124m'\u001b[39m:\n\u001b[1;32m    209\u001b[0m     \u001b[38;5;66;03m# Job expired\u001b[39;00m\n\u001b[1;32m    210\u001b[0m     logging\u001b[38;5;241m.\u001b[39minfo(\n\u001b[1;32m    211\u001b[0m         \u001b[38;5;124m'\u001b[39m\u001b[38;5;124mJob \u001b[39m\u001b[38;5;132;01m{}\u001b[39;00m\u001b[38;5;124m has expired. I will resubmit it\u001b[39m\u001b[38;5;124m'\u001b[39m \\\n\u001b[1;32m    212\u001b[0m             \u001b[38;5;241m.\u001b[39mformat(request_id)\n\u001b[1;32m    213\u001b[0m     )\n\u001b[0;32m--> 214\u001b[0m     \u001b[38;5;28;01mraise\u001b[39;00m berr\u001b[38;5;241m.\u001b[39mBlastError(berr\u001b[38;5;241m.\u001b[39mACTION_RESEND)\n\u001b[1;32m    216\u001b[0m \u001b[38;5;28;01melif\u001b[39;00m job_status \u001b[38;5;241m==\u001b[39m \u001b[38;5;124m'\u001b[39m\u001b[38;5;124mFAILED\u001b[39m\u001b[38;5;124m'\u001b[39m:\n\u001b[1;32m    217\u001b[0m     \u001b[38;5;66;03m# Job failed\u001b[39;00m\n\u001b[1;32m    218\u001b[0m     logging\u001b[38;5;241m.\u001b[39mwarning(\n\u001b[1;32m    219\u001b[0m         \u001b[38;5;124m'\u001b[39m\u001b[38;5;124mJob \u001b[39m\u001b[38;5;132;01m{}\u001b[39;00m\u001b[38;5;124m has failed. I will split it and resubmit\u001b[39m\u001b[38;5;124m'\u001b[39m \\\n\u001b[1;32m    220\u001b[0m             \u001b[38;5;241m.\u001b[39mformat(request_id)\n\u001b[1;32m    221\u001b[0m     )\n",
      "\u001b[0;31mBlastError\u001b[0m: 2"
     ]
    }
   ],
   "source": [
    "result = remote_blast.retrieve_results(request_id, wait_time)"
   ]
  },
  {
   "cell_type": "code",
   "execution_count": 7,
   "id": "014103d5-bce4-4738-ae8a-a8d87cbc7618",
   "metadata": {},
   "outputs": [
    {
     "name": "stdout",
     "output_type": "stream",
     "text": [
      "query_corona_seq [AlignResult(\n",
      "    query_id='query_corona_seq',\n",
      "    hit_name='Severe acute respiratory syndrome coronavirus 2',\n",
      "    hit_accession='OR240470',\n",
      "    query_length=350,\n",
      "    alignment_length=350,\n",
      "    identity=100.0,\n",
      "    gaps=0,\n",
      "    evalue=0,\n",
      "    avg_quality=None,\n",
      "    accuracy=None\n",
      ")]\n",
      "52a41318-f8b9-4d61-a21f-4a907f107973 [AlignResult(\n",
      "    query_id='52a41318-f8b9-4d61-a21f-4a907f107973',\n",
      "    hit_name='Bacillus safensis',\n",
      "    hit_accession='CP069061',\n",
      "    query_length=420,\n",
      "    alignment_length=404,\n",
      "    identity=88.86138613861387,\n",
      "    gaps=25,\n",
      "    evalue=5.4252e-130,\n",
      "    avg_quality=None,\n",
      "    accuracy=None\n",
      ")]\n",
      "711bf04d-20f5-4418-9712-16168ef98999 [AlignResult(\n",
      "    query_id='711bf04d-20f5-4418-9712-16168ef98999',\n",
      "    hit_name=None,\n",
      "    hit_accession=None,\n",
      "    query_length=350,\n",
      "    alignment_length=None,\n",
      "    identity=None,\n",
      "    gaps=None,\n",
      "    evalue=None,\n",
      "    avg_quality=None,\n",
      "    accuracy=None\n",
      ")]\n"
     ]
    }
   ],
   "source": [
    "for k, v in result.items():\n",
    "    print(k, v)"
   ]
  }
 ],
 "metadata": {
  "kernelspec": {
   "display_name": "Python 3 (ipykernel)",
   "language": "python",
   "name": "python3"
  },
  "language_info": {
   "codemirror_mode": {
    "name": "ipython",
    "version": 3
   },
   "file_extension": ".py",
   "mimetype": "text/x-python",
   "name": "python",
   "nbconvert_exporter": "python",
   "pygments_lexer": "ipython3",
   "version": "3.12.3"
  }
 },
 "nbformat": 4,
 "nbformat_minor": 5
}
