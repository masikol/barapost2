{
 "cells": [
  {
   "cell_type": "code",
   "execution_count": 1,
   "id": "ef5004dd-1b97-4f9f-a307-815505abcb54",
   "metadata": {},
   "outputs": [],
   "source": [
    "from src.remote_blast.remote_blast import RemoteBlast\n",
    "from src.reader_system.ReaderWrapper import ReaderWrapper"
   ]
  },
  {
   "cell_type": "code",
   "execution_count": null,
   "id": "78cd1b6c-6a48-44b4-ad6d-af28625063e5",
   "metadata": {},
   "outputs": [],
   "source": []
  },
  {
   "cell_type": "code",
   "execution_count": 2,
   "id": "4194ade3-218c-4f68-9004-8b84e4e263c8",
   "metadata": {},
   "outputs": [],
   "source": [
    "def read_first_fasta_seq(input_fpath : str):\n",
    "    reader_wrapper = ReaderWrapper(\n",
    "        file_paths=[input_fpath],\n",
    "        packet_size=1,\n",
    "        probing_batch_size=1,\n",
    "        mode='seq_count'\n",
    "    )\n",
    "    with reader_wrapper as input_handle:\n",
    "        for container_packet in input_handle:\n",
    "            result_container = next(iter(container_packet))\n",
    "            break\n",
    "        # end of\n",
    "    # end with\n",
    "    return result_container\n",
    "# end def\n",
    "\n",
    "\n",
    "def read_query_seq_1():\n",
    "    input_file_path = '/home/masikol/cager/repos/barapost2/tests/test_remote_blast/data/query_corona_seq.fasta'\n",
    "    return read_first_fasta_seq(input_file_path)\n",
    "# end def\n",
    "\n",
    "def read_query_seq_2():\n",
    "    input_file_path = '/home/masikol/cager/repos/barapost2/tests/test_remote_blast/data/52a41318-f8b9-4d61-a21f-4a907f107973.fasta'\n",
    "    return read_first_fasta_seq(input_file_path)\n",
    "# end def\n",
    "\n",
    "def read_query_seq_3():\n",
    "    input_file_path = '/home/masikol/cager/repos/barapost2/tests/test_remote_blast/data/711bf04d-20f5-4418-9712-16168ef98999.fasta'\n",
    "    return read_first_fasta_seq(input_file_path)\n",
    "# end def"
   ]
  },
  {
   "cell_type": "code",
   "execution_count": null,
   "id": "fccae3dd-992d-4c50-a58a-b13505b6a369",
   "metadata": {},
   "outputs": [],
   "source": []
  },
  {
   "cell_type": "code",
   "execution_count": 3,
   "id": "16c93afb-d29a-4b22-951f-829de4af4e61",
   "metadata": {},
   "outputs": [],
   "source": [
    "remote_blast = RemoteBlast(\n",
    "    'megaBlast',\n",
    "    ['561879', '2697049'],\n",
    "    '/home/masikol/cager/repos/barapost2/tests/test_remote_blast/data/test_outdir'\n",
    ")"
   ]
  },
  {
   "cell_type": "code",
   "execution_count": 4,
   "id": "0b69e94d-5ae5-44a2-a0e7-aff9dec54eca",
   "metadata": {},
   "outputs": [],
   "source": [
    "packet = [\n",
    "    read_query_seq_1(),\n",
    "    read_query_seq_2(),\n",
    "    read_query_seq_3(),\n",
    "]"
   ]
  },
  {
   "cell_type": "code",
   "execution_count": 5,
   "id": "f5194b7b-ff34-4ce6-91d9-7d531421f3d4",
   "metadata": {},
   "outputs": [],
   "source": [
    "# request_id, wait_time = remote_blast.submit_remote_blast(packet)"
   ]
  },
  {
   "cell_type": "code",
   "execution_count": 6,
   "id": "9222d753-d6e6-4dbd-b3b3-d439c7e33c2f",
   "metadata": {},
   "outputs": [],
   "source": [
    "request_id, wait_time = 'S0CTB0R4016', 1"
   ]
  },
  {
   "cell_type": "code",
   "execution_count": 7,
   "id": "04cd4fd1-e099-451f-b482-9f54f992b7d2",
   "metadata": {},
   "outputs": [
    {
     "data": {
      "text/plain": [
       "('S0CTB0R4016', 1)"
      ]
     },
     "execution_count": 7,
     "metadata": {},
     "output_type": "execute_result"
    }
   ],
   "source": [
    "request_id, wait_time"
   ]
  },
  {
   "cell_type": "code",
   "execution_count": null,
   "id": "13dfd440-a592-472d-b1ac-95d63dd2aa8f",
   "metadata": {},
   "outputs": [],
   "source": []
  },
  {
   "cell_type": "code",
   "execution_count": 8,
   "id": "9d26c2f9-74e1-4ecf-a2bb-1101636d5f9a",
   "metadata": {},
   "outputs": [
    {
     "name": "stderr",
     "output_type": "stream",
     "text": [
      "INFO:root:BLAST server estimates that alignment will be ready in 1 seconds\n",
      "INFO:root:Waiting for 1+3 (+3 extra) seconds...\n",
      "INFO:root:4 seconds have passed. Checking if the alignment is ready...\n",
      "\n",
      "INFO:root:Job is ready!\n",
      "---------------\n",
      "----------\n",
      "-----\n",
      "INFO:root:There are hits!\n",
      "INFO:root:Retrieving results...\n",
      "WARNING:root:Error. Cannot retrieve data: _ssl.c:983: The handshake operation timed out. It may be due to instable work of NCBI servers. 3 attempts to connect left, waiting for 30 sec... \n",
      "WARNING:root:Error. Cannot retrieve data: _ssl.c:983: The handshake operation timed out. It may be due to instable work of NCBI servers. 2 attempts to connect left, waiting for 30 sec... \n"
     ]
    }
   ],
   "source": [
    "result = remote_blast.retrieve_results(request_id, wait_time)"
   ]
  },
  {
   "cell_type": "code",
   "execution_count": 9,
   "id": "014103d5-bce4-4738-ae8a-a8d87cbc7618",
   "metadata": {},
   "outputs": [
    {
     "data": {
      "text/plain": [
       "{'BlastOutput2': [{'report': {'program': 'blastn',\n",
       "    'version': 'BLASTN 2.16.1+',\n",
       "    'reference': 'Zheng Zhang, Scott Schwartz, Lukas Wagner, and Webb Miller (2000), \"A greedy algorithm for aligning DNA sequences\", J Comput Biol 2000; 7(1-2):203-14.',\n",
       "    'search_target': {'db': 'core_nt'},\n",
       "    'params': {'expect': 10,\n",
       "     'sc_match': 1,\n",
       "     'sc_mismatch': -2,\n",
       "     'gap_open': 0,\n",
       "     'gap_extend': 0,\n",
       "     'filter': 'L;m;',\n",
       "     'entrez_query': 'txid561879 [ORGN] OR txid2697049 [ORGN]'},\n",
       "    'results': {'search': {'query_id': 'Query_1500325',\n",
       "      'query_title': 'query_corona_seq',\n",
       "      'query_len': 350,\n",
       "      'hits': [{'num': 1,\n",
       "        'description': [{'id': 'gi|2845578679|gb|PQ567494.1|',\n",
       "          'accession': 'PQ567494',\n",
       "          'title': 'Severe acute respiratory syndrome coronavirus 2 isolate SARS-CoV-2/human/BRA/49NOV22L01/2023, complete genome',\n",
       "          'taxid': 2697049,\n",
       "          'sciname': 'Severe acute respiratory syndrome coronavirus 2'}],\n",
       "        'len': 29870,\n",
       "        'hsps': [{'num': 1,\n",
       "          'bit_score': 647.448,\n",
       "          'score': 350,\n",
       "          'evalue': 0,\n",
       "          'identity': 350,\n",
       "          'query_from': 1,\n",
       "          'query_to': 350,\n",
       "          'query_strand': 'Plus',\n",
       "          'hit_from': 1,\n",
       "          'hit_to': 350,\n",
       "          'hit_strand': 'Plus',\n",
       "          'align_len': 350,\n",
       "          'gaps': 0,\n",
       "          'qseq': 'ATTAAAGGTTTATACCTTCCCAGGTAACAAACCAACCAACTTTCGATCTCTTGTAGATCTGTTCTCTAAACGAACTTTAAAATCTGTGTGGCTGTCACTCGGCTGCATGCTTAGTGCACTCACGCAGTATAATTAATAACTAATTACTGTCGTTGACAGGACACGAGTAACTCGTCTATCTTCTGCAGGCTGCTTACGGTTTCGTCCGTGTTGCAGCCGATCATCAGCACATCTAGGTTTCGTCCGGGTGTGACCGAAAGGTAAGATGGAGAGCCTTGTCCCTGGTTTCAACGAGAAAACACACGTCCAACTCAGTTTGCCTGTTTTACAGGTTCGCGACGTGCTCGTAC',\n",
       "          'hseq': 'ATTAAAGGTTTATACCTTCCCAGGTAACAAACCAACCAACTTTCGATCTCTTGTAGATCTGTTCTCTAAACGAACTTTAAAATCTGTGTGGCTGTCACTCGGCTGCATGCTTAGTGCACTCACGCAGTATAATTAATAACTAATTACTGTCGTTGACAGGACACGAGTAACTCGTCTATCTTCTGCAGGCTGCTTACGGTTTCGTCCGTGTTGCAGCCGATCATCAGCACATCTAGGTTTCGTCCGGGTGTGACCGAAAGGTAAGATGGAGAGCCTTGTCCCTGGTTTCAACGAGAAAACACACGTCCAACTCAGTTTGCCTGTTTTACAGGTTCGCGACGTGCTCGTAC',\n",
       "          'midline': '||||||||||||||||||||||||||||||||||||||||||||||||||||||||||||||||||||||||||||||||||||||||||||||||||||||||||||||||||||||||||||||||||||||||||||||||||||||||||||||||||||||||||||||||||||||||||||||||||||||||||||||||||||||||||||||||||||||||||||||||||||||||||||||||||||||||||||||||||||||||||||||||||||||||||||||||||||||||||||||||||||||||||||||||||||||||||||||'}]}],\n",
       "      'stat': {'db_num': 111572119,\n",
       "       'db_len': 847302703457,\n",
       "       'hsp_len': 0,\n",
       "       'eff_space': 0,\n",
       "       'kappa': 0.46,\n",
       "       'lambda': 1.28,\n",
       "       'entropy': 0.85}}}}},\n",
       "  {'report': {'program': 'blastn',\n",
       "    'version': 'BLASTN 2.16.1+',\n",
       "    'reference': 'Zheng Zhang, Scott Schwartz, Lukas Wagner, and Webb Miller (2000), \"A greedy algorithm for aligning DNA sequences\", J Comput Biol 2000; 7(1-2):203-14.',\n",
       "    'search_target': {'db': 'core_nt'},\n",
       "    'params': {'expect': 10,\n",
       "     'sc_match': 1,\n",
       "     'sc_mismatch': -2,\n",
       "     'gap_open': 0,\n",
       "     'gap_extend': 0,\n",
       "     'filter': 'L;m;',\n",
       "     'entrez_query': 'txid561879 [ORGN] OR txid2697049 [ORGN]'},\n",
       "    'results': {'search': {'query_id': 'Query_1500326',\n",
       "      'query_title': '52a41318-f8b9-4d61-a21f-4a907f107973',\n",
       "      'query_len': 420,\n",
       "      'query_masking': [{'from': 340, 'to': 346}],\n",
       "      'hits': [{'num': 1,\n",
       "        'description': [{'id': 'gi|2242678970|gb|CP034414.1|',\n",
       "          'accession': 'CP034414',\n",
       "          'title': 'Bacillus safensis strain BLXSC chromosome',\n",
       "          'taxid': 561879,\n",
       "          'sciname': 'Bacillus safensis'}],\n",
       "        'len': 3801264,\n",
       "        'hsps': [{'num': 1,\n",
       "          'bit_score': 473.863,\n",
       "          'score': 256,\n",
       "          'evalue': 5.45898e-130,\n",
       "          'identity': 359,\n",
       "          'query_from': 38,\n",
       "          'query_to': 420,\n",
       "          'query_strand': 'Plus',\n",
       "          'hit_from': 2809729,\n",
       "          'hit_to': 2810128,\n",
       "          'hit_strand': 'Plus',\n",
       "          'align_len': 404,\n",
       "          'gaps': 25,\n",
       "          'qseq': 'GGTCGCCATTTCCATCTGGAAGGACAAA--AGTACTC--AGTTA-TT-GACG-TTCAGTCCACCCACAGCCTTTTTCAGAAGAA---ATGAACCTTCT--AAATAGCAGCACATGCCGTGAAAAATAAATTACTCAACTT-C--ATT-GAAAAACGAAAACGGAAGAACGCAATCAGGAGC-ACTCTGGAAGATGCTCACAGGTCATATTCATGAAAAGGATGAGATGCTTGACCTATTTTTAAAGACTTGGCATTAGATGTCCAGACACATATGCCATCATCATCTTCCGTCTCCATGACGAACTCACAGAGGAGACAGaaaaaaaGCTGTC-TATCTCGCC-GAGACAACACAGCAGGTTCAGGTACTGTTAACGACTATTG-TTCCC-CAAATTCATTATT',\n",
       "          'hseq': 'GGTCGCCATTTCCATCTGGAAGGACAAAGAAGTGCTCGGATTTATTTGGGCGATTGAAT-C-CGCACAGCCTTTTTCAGAAGAAGAAATGGACCTTCTCAAAATGGCAGCACATGCCGTGAAAAACAAATTACTCAACTTACAAATTCGAAAAACGAAAACAGAAGAACGCAATCAGGAGCTTTTCTGGAAGATGCTCACGGGTCATATTCATGAAAAGGATGAGATGCTTGACCTATTTTT-AAGACTTGGCATTAGATGTCCAGACACATATGCCATCATCATCTTCCGTCTCCGTGACGAACTCACAGAGGAGACAGAAAAAAAGCTGTCCTATCT-GCTTGAGACAACACAGCAAGTTCAGGTACTGTTAACGACTGTTGATTTTCACGAATTCATTATT',\n",
       "          'midline': '||||||||||||||||||||||||||||  ||| |||  | ||| || | || || | | | | ||||||||||||||||||||   ||| |||||||  |||| |||||||||||||||||||| |||||||||||||| |  ||| ||||||||||||| |||||||||||||||||||   |||||||||||||||| ||||||||||||||||||||||||||||||||||||||||| ||||||||||||||||||||||||||||||||||||||||||||||||||||| |||||||||||||||||||||||||||||||||||| ||||| ||  |||||||||||||| ||||||||||||||||||||| ||| ||  | | |||||||||||'}]}],\n",
       "      'stat': {'db_num': 111572119,\n",
       "       'db_len': 847302703457,\n",
       "       'hsp_len': 0,\n",
       "       'eff_space': 0,\n",
       "       'kappa': 0.46,\n",
       "       'lambda': 1.28,\n",
       "       'entropy': 0.85}}}}},\n",
       "  {'report': {'program': 'blastn',\n",
       "    'version': 'BLASTN 2.16.1+',\n",
       "    'reference': 'Zheng Zhang, Scott Schwartz, Lukas Wagner, and Webb Miller (2000), \"A greedy algorithm for aligning DNA sequences\", J Comput Biol 2000; 7(1-2):203-14.',\n",
       "    'search_target': {'db': 'core_nt'},\n",
       "    'params': {'expect': 10,\n",
       "     'sc_match': 1,\n",
       "     'sc_mismatch': -2,\n",
       "     'gap_open': 0,\n",
       "     'gap_extend': 0,\n",
       "     'filter': 'L;m;',\n",
       "     'entrez_query': 'txid561879 [ORGN] OR txid2697049 [ORGN]'},\n",
       "    'results': {'search': {'query_id': 'Query_1500327',\n",
       "      'query_title': '711bf04d-20f5-4418-9712-16168ef98999',\n",
       "      'query_len': 350,\n",
       "      'hits': [],\n",
       "      'stat': {'db_num': 111572119,\n",
       "       'db_len': 847302703457,\n",
       "       'hsp_len': 0,\n",
       "       'eff_space': 0,\n",
       "       'kappa': 0.46,\n",
       "       'lambda': 1.28,\n",
       "       'entropy': 0.85},\n",
       "      'message': 'No hits found'}}}}]}"
      ]
     },
     "execution_count": 9,
     "metadata": {},
     "output_type": "execute_result"
    }
   ],
   "source": [
    "result"
   ]
  },
  {
   "cell_type": "code",
   "execution_count": null,
   "id": "d7fd2d28-f317-4423-9e73-ce8f733cacd1",
   "metadata": {},
   "outputs": [],
   "source": []
  }
 ],
 "metadata": {
  "kernelspec": {
   "display_name": "Python 3 (ipykernel)",
   "language": "python",
   "name": "python3"
  },
  "language_info": {
   "codemirror_mode": {
    "name": "ipython",
    "version": 3
   },
   "file_extension": ".py",
   "mimetype": "text/x-python",
   "name": "python",
   "nbconvert_exporter": "python",
   "pygments_lexer": "ipython3",
   "version": "3.12.3"
  }
 },
 "nbformat": 4,
 "nbformat_minor": 5
}
